{
 "cells": [
  {
   "cell_type": "code",
   "execution_count": 1,
   "id": "1a9c75f9",
   "metadata": {},
   "outputs": [
    {
     "data": {
      "text/html": [
       "<div>\n",
       "<style scoped>\n",
       "    .dataframe tbody tr th:only-of-type {\n",
       "        vertical-align: middle;\n",
       "    }\n",
       "\n",
       "    .dataframe tbody tr th {\n",
       "        vertical-align: top;\n",
       "    }\n",
       "\n",
       "    .dataframe thead th {\n",
       "        text-align: right;\n",
       "    }\n",
       "</style>\n",
       "<table border=\"1\" class=\"dataframe\">\n",
       "  <thead>\n",
       "    <tr style=\"text-align: right;\">\n",
       "      <th></th>\n",
       "      <th>CUST_ID</th>\n",
       "      <th>BALANCE</th>\n",
       "      <th>BALANCE_FREQUENCY</th>\n",
       "      <th>PURCHASES</th>\n",
       "      <th>ONEOFF_PURCHASES</th>\n",
       "      <th>INSTALLMENTS_PURCHASES</th>\n",
       "      <th>CASH_ADVANCE</th>\n",
       "      <th>PURCHASES_FREQUENCY</th>\n",
       "      <th>ONEOFF_PURCHASES_FREQUENCY</th>\n",
       "      <th>PURCHASES_INSTALLMENTS_FREQUENCY</th>\n",
       "      <th>CASH_ADVANCE_FREQUENCY</th>\n",
       "      <th>CASH_ADVANCE_TRX</th>\n",
       "      <th>PURCHASES_TRX</th>\n",
       "      <th>CREDIT_LIMIT</th>\n",
       "      <th>PAYMENTS</th>\n",
       "      <th>MINIMUM_PAYMENTS</th>\n",
       "      <th>PRC_FULL_PAYMENT</th>\n",
       "      <th>TENURE</th>\n",
       "    </tr>\n",
       "  </thead>\n",
       "  <tbody>\n",
       "    <tr>\n",
       "      <th>0</th>\n",
       "      <td>C10001</td>\n",
       "      <td>40.900749</td>\n",
       "      <td>0.818182</td>\n",
       "      <td>95.40</td>\n",
       "      <td>0.00</td>\n",
       "      <td>95.4</td>\n",
       "      <td>0.000000</td>\n",
       "      <td>0.166667</td>\n",
       "      <td>0.000000</td>\n",
       "      <td>0.083333</td>\n",
       "      <td>0.000000</td>\n",
       "      <td>0</td>\n",
       "      <td>2</td>\n",
       "      <td>1000.0</td>\n",
       "      <td>201.802084</td>\n",
       "      <td>139.509787</td>\n",
       "      <td>0.000000</td>\n",
       "      <td>12</td>\n",
       "    </tr>\n",
       "    <tr>\n",
       "      <th>1</th>\n",
       "      <td>C10002</td>\n",
       "      <td>3202.467416</td>\n",
       "      <td>0.909091</td>\n",
       "      <td>0.00</td>\n",
       "      <td>0.00</td>\n",
       "      <td>0.0</td>\n",
       "      <td>6442.945483</td>\n",
       "      <td>0.000000</td>\n",
       "      <td>0.000000</td>\n",
       "      <td>0.000000</td>\n",
       "      <td>0.250000</td>\n",
       "      <td>4</td>\n",
       "      <td>0</td>\n",
       "      <td>7000.0</td>\n",
       "      <td>4103.032597</td>\n",
       "      <td>1072.340217</td>\n",
       "      <td>0.222222</td>\n",
       "      <td>12</td>\n",
       "    </tr>\n",
       "    <tr>\n",
       "      <th>2</th>\n",
       "      <td>C10003</td>\n",
       "      <td>2495.148862</td>\n",
       "      <td>1.000000</td>\n",
       "      <td>773.17</td>\n",
       "      <td>773.17</td>\n",
       "      <td>0.0</td>\n",
       "      <td>0.000000</td>\n",
       "      <td>1.000000</td>\n",
       "      <td>1.000000</td>\n",
       "      <td>0.000000</td>\n",
       "      <td>0.000000</td>\n",
       "      <td>0</td>\n",
       "      <td>12</td>\n",
       "      <td>7500.0</td>\n",
       "      <td>622.066742</td>\n",
       "      <td>627.284787</td>\n",
       "      <td>0.000000</td>\n",
       "      <td>12</td>\n",
       "    </tr>\n",
       "    <tr>\n",
       "      <th>3</th>\n",
       "      <td>C10004</td>\n",
       "      <td>1666.670542</td>\n",
       "      <td>0.636364</td>\n",
       "      <td>1499.00</td>\n",
       "      <td>1499.00</td>\n",
       "      <td>0.0</td>\n",
       "      <td>205.788017</td>\n",
       "      <td>0.083333</td>\n",
       "      <td>0.083333</td>\n",
       "      <td>0.000000</td>\n",
       "      <td>0.083333</td>\n",
       "      <td>1</td>\n",
       "      <td>1</td>\n",
       "      <td>7500.0</td>\n",
       "      <td>0.000000</td>\n",
       "      <td>NaN</td>\n",
       "      <td>0.000000</td>\n",
       "      <td>12</td>\n",
       "    </tr>\n",
       "    <tr>\n",
       "      <th>4</th>\n",
       "      <td>C10005</td>\n",
       "      <td>817.714335</td>\n",
       "      <td>1.000000</td>\n",
       "      <td>16.00</td>\n",
       "      <td>16.00</td>\n",
       "      <td>0.0</td>\n",
       "      <td>0.000000</td>\n",
       "      <td>0.083333</td>\n",
       "      <td>0.083333</td>\n",
       "      <td>0.000000</td>\n",
       "      <td>0.000000</td>\n",
       "      <td>0</td>\n",
       "      <td>1</td>\n",
       "      <td>1200.0</td>\n",
       "      <td>678.334763</td>\n",
       "      <td>244.791237</td>\n",
       "      <td>0.000000</td>\n",
       "      <td>12</td>\n",
       "    </tr>\n",
       "  </tbody>\n",
       "</table>\n",
       "</div>"
      ],
      "text/plain": [
       "  CUST_ID      BALANCE  BALANCE_FREQUENCY  PURCHASES  ONEOFF_PURCHASES  \\\n",
       "0  C10001    40.900749           0.818182      95.40              0.00   \n",
       "1  C10002  3202.467416           0.909091       0.00              0.00   \n",
       "2  C10003  2495.148862           1.000000     773.17            773.17   \n",
       "3  C10004  1666.670542           0.636364    1499.00           1499.00   \n",
       "4  C10005   817.714335           1.000000      16.00             16.00   \n",
       "\n",
       "   INSTALLMENTS_PURCHASES  CASH_ADVANCE  PURCHASES_FREQUENCY  \\\n",
       "0                    95.4      0.000000             0.166667   \n",
       "1                     0.0   6442.945483             0.000000   \n",
       "2                     0.0      0.000000             1.000000   \n",
       "3                     0.0    205.788017             0.083333   \n",
       "4                     0.0      0.000000             0.083333   \n",
       "\n",
       "   ONEOFF_PURCHASES_FREQUENCY  PURCHASES_INSTALLMENTS_FREQUENCY  \\\n",
       "0                    0.000000                          0.083333   \n",
       "1                    0.000000                          0.000000   \n",
       "2                    1.000000                          0.000000   \n",
       "3                    0.083333                          0.000000   \n",
       "4                    0.083333                          0.000000   \n",
       "\n",
       "   CASH_ADVANCE_FREQUENCY  CASH_ADVANCE_TRX  PURCHASES_TRX  CREDIT_LIMIT  \\\n",
       "0                0.000000                 0              2        1000.0   \n",
       "1                0.250000                 4              0        7000.0   \n",
       "2                0.000000                 0             12        7500.0   \n",
       "3                0.083333                 1              1        7500.0   \n",
       "4                0.000000                 0              1        1200.0   \n",
       "\n",
       "      PAYMENTS  MINIMUM_PAYMENTS  PRC_FULL_PAYMENT  TENURE  \n",
       "0   201.802084        139.509787          0.000000      12  \n",
       "1  4103.032597       1072.340217          0.222222      12  \n",
       "2   622.066742        627.284787          0.000000      12  \n",
       "3     0.000000               NaN          0.000000      12  \n",
       "4   678.334763        244.791237          0.000000      12  "
      ]
     },
     "execution_count": 1,
     "metadata": {},
     "output_type": "execute_result"
    }
   ],
   "source": [
    "import warnings\n",
    "warnings.filterwarnings('ignore')\n",
    "\n",
    "from sklearn import preprocessing\n",
    "import pandas as pd\n",
    "#load the data frame\n",
    "CC_df = pd.read_csv(\"CC GENERAL.csv\")\n",
    "CC_df.head()"
   ]
  },
  {
   "cell_type": "code",
   "execution_count": 2,
   "id": "ad248a11",
   "metadata": {},
   "outputs": [
    {
     "name": "stdout",
     "output_type": "stream",
     "text": [
      "<class 'pandas.core.frame.DataFrame'>\n",
      "RangeIndex: 8950 entries, 0 to 8949\n",
      "Data columns (total 18 columns):\n",
      " #   Column                            Non-Null Count  Dtype  \n",
      "---  ------                            --------------  -----  \n",
      " 0   CUST_ID                           8950 non-null   object \n",
      " 1   BALANCE                           8950 non-null   float64\n",
      " 2   BALANCE_FREQUENCY                 8950 non-null   float64\n",
      " 3   PURCHASES                         8950 non-null   float64\n",
      " 4   ONEOFF_PURCHASES                  8950 non-null   float64\n",
      " 5   INSTALLMENTS_PURCHASES            8950 non-null   float64\n",
      " 6   CASH_ADVANCE                      8950 non-null   float64\n",
      " 7   PURCHASES_FREQUENCY               8950 non-null   float64\n",
      " 8   ONEOFF_PURCHASES_FREQUENCY        8950 non-null   float64\n",
      " 9   PURCHASES_INSTALLMENTS_FREQUENCY  8950 non-null   float64\n",
      " 10  CASH_ADVANCE_FREQUENCY            8950 non-null   float64\n",
      " 11  CASH_ADVANCE_TRX                  8950 non-null   int64  \n",
      " 12  PURCHASES_TRX                     8950 non-null   int64  \n",
      " 13  CREDIT_LIMIT                      8949 non-null   float64\n",
      " 14  PAYMENTS                          8950 non-null   float64\n",
      " 15  MINIMUM_PAYMENTS                  8637 non-null   float64\n",
      " 16  PRC_FULL_PAYMENT                  8950 non-null   float64\n",
      " 17  TENURE                            8950 non-null   int64  \n",
      "dtypes: float64(14), int64(3), object(1)\n",
      "memory usage: 1.2+ MB\n"
     ]
    }
   ],
   "source": [
    "CC_df.info()"
   ]
  },
  {
   "cell_type": "code",
   "execution_count": 3,
   "id": "997f2855",
   "metadata": {},
   "outputs": [
    {
     "data": {
      "text/plain": [
       "CUST_ID                               0\n",
       "BALANCE                               0\n",
       "BALANCE_FREQUENCY                     0\n",
       "PURCHASES                             0\n",
       "ONEOFF_PURCHASES                      0\n",
       "INSTALLMENTS_PURCHASES                0\n",
       "CASH_ADVANCE                          0\n",
       "PURCHASES_FREQUENCY                   0\n",
       "ONEOFF_PURCHASES_FREQUENCY            0\n",
       "PURCHASES_INSTALLMENTS_FREQUENCY      0\n",
       "CASH_ADVANCE_FREQUENCY                0\n",
       "CASH_ADVANCE_TRX                      0\n",
       "PURCHASES_TRX                         0\n",
       "CREDIT_LIMIT                          1\n",
       "PAYMENTS                              0\n",
       "MINIMUM_PAYMENTS                    313\n",
       "PRC_FULL_PAYMENT                      0\n",
       "TENURE                                0\n",
       "dtype: int64"
      ]
     },
     "execution_count": 3,
     "metadata": {},
     "output_type": "execute_result"
    }
   ],
   "source": [
    "# find missing\n",
    "CC_df.isnull().sum()"
   ]
  },
  {
   "cell_type": "code",
   "execution_count": 4,
   "id": "8b26adc1",
   "metadata": {},
   "outputs": [
    {
     "data": {
      "text/plain": [
       "313"
      ]
     },
     "execution_count": 4,
     "metadata": {},
     "output_type": "execute_result"
    }
   ],
   "source": [
    "#Address Issues where Target Labels (\"MINIMUM_PAYMENTS\") are missing\n",
    "CC_df.MINIMUM_PAYMENTS.isnull().sum()"
   ]
  },
  {
   "cell_type": "code",
   "execution_count": 5,
   "id": "660d1893",
   "metadata": {},
   "outputs": [],
   "source": [
    "CC_df['MINIMUM_PAYMENTS'].fillna(CC_df['MINIMUM_PAYMENTS'].median(), inplace=True)"
   ]
  },
  {
   "cell_type": "code",
   "execution_count": 6,
   "id": "ddcf2b37",
   "metadata": {},
   "outputs": [],
   "source": [
    "\n",
    "CC_df['MINIMUM_PAYMENTS'] = CC_df['MINIMUM_PAYMENTS'].fillna(0)"
   ]
  },
  {
   "cell_type": "code",
   "execution_count": 7,
   "id": "d8177029",
   "metadata": {},
   "outputs": [],
   "source": [
    "\n",
    "CC_df.drop(['CUST_ID'],axis=1,inplace=True)"
   ]
  },
  {
   "cell_type": "markdown",
   "id": "42fa38af",
   "metadata": {},
   "source": [
    " (Q - 1 )Given that K-means depends on distance metric, it is a convention to normalize the data\n",
    "attributes so that attributes are on the same scale. So, in this first task, normalize all data\n",
    "attributes"
   ]
  },
  {
   "cell_type": "code",
   "execution_count": 8,
   "id": "ef0e562d",
   "metadata": {},
   "outputs": [],
   "source": [
    "from sklearn import preprocessing\n",
    "#Data normalization done using MinMax Scaler :                 \n",
    "mmscaler = preprocessing.MinMaxScaler()\n",
    "\n",
    "scaled = mmscaler.fit_transform(CC_df)"
   ]
  },
  {
   "cell_type": "code",
   "execution_count": 9,
   "id": "b558c824",
   "metadata": {},
   "outputs": [],
   "source": [
    "\n",
    "CC_df = pd.DataFrame(scaled)"
   ]
  },
  {
   "cell_type": "markdown",
   "id": "51a976f1",
   "metadata": {},
   "source": [
    "(Q - 2) Write your own code for the K-means algorithm using only two attributes, PURCHASES and CREDITLIMIT. Take K=2. Plot clusters on a scatter plot with X and Y being the two attributes. "
   ]
  },
  {
   "cell_type": "code",
   "execution_count": 10,
   "id": "1407864f",
   "metadata": {},
   "outputs": [],
   "source": [
    "import numpy as np\n",
    "import random\n",
    "X = CC_df.iloc[:, [3, 13]].values\n",
    "m=X.shape[0] #number of training examples\n",
    "n=X.shape[1] #number of features. Here n=2\n",
    "n_iter=100\n",
    "\n",
    "K=2 #Number of clusters\n",
    "# Randomly pick k data points as our initial Centroids\n",
    "Centroids=np.array([]).reshape(n,0) \n",
    "\n",
    "for i in range(K):\n",
    "    rand=random.randint(0,m-1)\n",
    "    Centroids=np.c_[Centroids,X[rand]]\n",
    "        \n",
    "#Find the distance (Euclidean distance) between each data points in our training set with the K centroids.\n",
    "for i in range(n_iter):    \n",
    "    EuclidianDistance=np.array([]).reshape(m,0)\n",
    "    for k in range(K):\n",
    "        tempDist=np.sum((X-Centroids[:,k])**2,axis=1)\n",
    "        EuclidianDistance=np.c_[EuclidianDistance,tempDist]\n",
    "        \n",
    "    C=np.argmin(EuclidianDistance,axis=1)+1\n",
    "     #step 2.b\n",
    "    Y={}\n",
    "    for k in range(K):\n",
    "          Y[k+1]=np.array([]).reshape(2,0)\n",
    "    for i in range(m):\n",
    "          Y[C[i]]=np.c_[Y[C[i]],X[i]]\n",
    "     \n",
    "    for k in range(K):\n",
    "          Y[k+1]=Y[k+1].T\n",
    "    \n",
    "    for k in range(K):\n",
    "          Centroids[:,k]=np.mean(Y[k+1],axis=0)\n",
    "    Output=Y"
   ]
  },
  {
   "cell_type": "code",
   "execution_count": 11,
   "id": "0a48014a",
   "metadata": {},
   "outputs": [
    {
     "data": {
      "image/png": "[encoded data removed]",
      "text/plain": [
       "<Figure size 432x288 with 1 Axes>"
      ]
     },
     "metadata": {
      "needs_background": "light"
     },
     "output_type": "display_data"
    }
   ],
   "source": [
    "import matplotlib.pyplot as plt\n",
    "plt.scatter(X[:,0],X[:,1],c='green',label='unclustered data')\n",
    "plt.xlabel('PURCHASES')\n",
    "plt.ylabel('CREDIT LIMIT')\n",
    "plt.legend()\n",
    "plt.title('Plot of data points')\n",
    "plt.show()"
   ]
  },
  {
   "cell_type": "markdown",
   "id": "12c11d46",
   "metadata": {},
   "source": [
    "Question-2 :- Color data points belonging to the first cluster with red and the second cluster with blue. Copy the plot diagram in the word document and interpret the output.)"
   ]
  },
  {
   "cell_type": "code",
   "execution_count": 12,
   "id": "4f7d5e05",
   "metadata": {},
   "outputs": [
    {
     "data": {
      "image/png": "[encoded data removed]",
      "text/plain": [
       "<Figure size 432x288 with 1 Axes>"
      ]
     },
     "metadata": {
      "needs_background": "light"
     },
     "output_type": "display_data"
    }
   ],
   "source": [
    "color=['red','blue']\n",
    "labels=['cluster1','cluster2']\n",
    "for k in range(K):\n",
    "    plt.scatter(Output[k+1][:,0],Output[k+1][:,1],c=color[k],label=labels[k])\n",
    "plt.scatter(Centroids[0,:],Centroids[1,:],s=100,c='yellow',label='Centroids')\n",
    "plt.xlabel('PURCHASES')\n",
    "plt.ylabel('CREDIT LIMIT')\n",
    "plt.legend()\n",
    "plt.show()"
   ]
  },
  {
   "cell_type": "markdown",
   "id": "d1ff7ba1",
   "metadata": {},
   "source": [
    "Comments - Cluster1 in 'red' and Cluster2 in 'blue', seem to be more meaningfully differentiated but there is no clear separation and there is possibilty of overlapping regions."
   ]
  },
  {
   "cell_type": "markdown",
   "id": "a84acedf",
   "metadata": {},
   "source": [
    "Let's check the results using other values of K (Number of Clusters) now to verify whether we can enhance predictions"
   ]
  },
  {
   "cell_type": "markdown",
   "id": "58e5c076",
   "metadata": {},
   "source": [
    "Question-3. Redo question-2 on different values of K = 3,4,5. For each case, draw the plot of clusters as stated above. Visualize these plots, copy the plot diagrams in the word document, and comment on which is better clustering (and reasons) based on visualization only. [1.5 marks] "
   ]
  },
  {
   "cell_type": "code",
   "execution_count": 13,
   "id": "358a96e2",
   "metadata": {},
   "outputs": [],
   "source": [
    "X = CC_df.iloc[:, [3, 13]].values\n",
    "m=X.shape[0] #number of training examples\n",
    "n=X.shape[1] #number of features. Here n=2\n",
    "n_iter=100\n",
    "\n",
    "K=3 #Number of clusters\n",
    "# Randomly pick k data points as our initial Centroids\n",
    "Centroids=np.array([]).reshape(n,0) \n",
    "\n",
    "for i in range(K):\n",
    "    rand=random.randint(0,m-1)\n",
    "    Centroids=np.c_[Centroids,X[rand]]\n",
    "\n",
    "#Find the distance (Euclidean distance) between each data points in our training set with the K centroids.\n",
    "for i in range(n_iter):    \n",
    "    EuclidianDistance=np.array([]).reshape(m,0)\n",
    "    for k in range(K):\n",
    "        tempDist=np.sum((X-Centroids[:,k])**2,axis=1)\n",
    "        EuclidianDistance=np.c_[EuclidianDistance,tempDist]\n",
    "        \n",
    "    #Now assign each data point to the closest centroid according to the distance found.\n",
    "    C=np.argmin(EuclidianDistance,axis=1)+1\n",
    "     \n",
    "    Y={}\n",
    "    for k in range(K):\n",
    "          Y[k+1]=np.array([]).reshape(2,0)\n",
    "    for i in range(m):\n",
    "          Y[C[i]]=np.c_[Y[C[i]],X[i]]\n",
    "     \n",
    "    for k in range(K):\n",
    "          Y[k+1]=Y[k+1].T\n",
    "    #Update centroid location by taking the average of the points in each cluster group.\n",
    "    for k in range(K):\n",
    "          Centroids[:,k]=np.mean(Y[k+1],axis=0)\n",
    "    Output=Y"
   ]
  },
  {
   "cell_type": "code",
   "execution_count": 14,
   "id": "c2e47dc8",
   "metadata": {},
   "outputs": [
    {
     "data": {
      "image/png": "[encoded data removed]",
      "text/plain": [
       "<Figure size 432x288 with 1 Axes>"
      ]
     },
     "metadata": {
      "needs_background": "light"
     },
     "output_type": "display_data"
    }
   ],
   "source": [
    "color=['red','blue','green']\n",
    "labels=['cluster1','cluster2','cluster3']\n",
    "for k in range(K):\n",
    "    plt.scatter(Output[k+1][:,0],Output[k+1][:,1],c=color[k],label=labels[k])\n",
    "plt.scatter(Centroids[0,:],Centroids[1,:],s=100,c='yellow',label='Centroids')\n",
    "plt.xlabel('PURCHASES')\n",
    "plt.ylabel('CREDIT LIMIT')\n",
    "plt.legend()\n",
    "plt.show()"
   ]
  },
  {
   "cell_type": "markdown",
   "id": "b68073d4",
   "metadata": {},
   "source": [
    "Cluster1 in 'red' , Cluster2 in 'blue' and Cluster3 in 'green', seem to be more meaningfully differentiated than before. Let's check the results using other values of K (Number of Clusters) now to verify whether we can enhance predictions"
   ]
  },
  {
   "cell_type": "code",
   "execution_count": 15,
   "id": "89cec1d3",
   "metadata": {},
   "outputs": [
    {
     "data": {
      "image/png": "[encoded data removed]",
      "text/plain": [
       "<Figure size 432x288 with 1 Axes>"
      ]
     },
     "metadata": {
      "needs_background": "light"
     },
     "output_type": "display_data"
    }
   ],
   "source": [
    "X = CC_df.iloc[:, [3, 13]].values\n",
    "m=X.shape[0] #number of training examples\n",
    "n=X.shape[1] #number of features. Here n=2\n",
    "n_iter=100\n",
    "\n",
    "K=4 #Number of clusters\n",
    "# Randomly pick k data points as our initial Centroids\n",
    "Centroids=np.array([]).reshape(n,0) \n",
    "\n",
    "for i in range(K):\n",
    "    rand=random.randint(0,m-1)\n",
    "    Centroids=np.c_[Centroids,X[rand]]\n",
    "\n",
    "#Find the distance (Euclidean distance) between each data points in our training set with the K centroids.\n",
    "for i in range(n_iter):    \n",
    "    EuclidianDistance=np.array([]).reshape(m,0)\n",
    "    for k in range(K):\n",
    "        tempDist=np.sum((X-Centroids[:,k])**2,axis=1)\n",
    "        EuclidianDistance=np.c_[EuclidianDistance,tempDist]\n",
    "        \n",
    "    #Now assign each data point to the closest centroid according to the distance found.\n",
    "    C=np.argmin(EuclidianDistance,axis=1)+1\n",
    "     \n",
    "    Y={}\n",
    "    for k in range(K):\n",
    "          Y[k+1]=np.array([]).reshape(2,0)\n",
    "    for i in range(m):\n",
    "          Y[C[i]]=np.c_[Y[C[i]],X[i]]\n",
    "     \n",
    "    for k in range(K):\n",
    "          Y[k+1]=Y[k+1].T\n",
    "    #Update centroid location by taking the average of the points in each cluster group.\n",
    "    for k in range(K):\n",
    "          Centroids[:,k]=np.mean(Y[k+1],axis=0)\n",
    "    Output=Y\n",
    "#plot the clusters\n",
    "color=['red','blue','green','cyan']\n",
    "labels=['cluster1','cluster2','cluster3','cluster4']\n",
    "for k in range(K):\n",
    "    plt.scatter(Output[k+1][:,0],Output[k+1][:,1],c=color[k],label=labels[k])\n",
    "plt.scatter(Centroids[0,:],Centroids[1,:],s=100,c='yellow',label='Centroids')\n",
    "plt.xlabel('PURCHASES')\n",
    "plt.ylabel('CREDIT LIMIT')\n",
    "plt.legend()\n",
    "plt.show()"
   ]
  },
  {
   "cell_type": "markdown",
   "id": "b5cccdd7",
   "metadata": {},
   "source": [
    "Cluster1 in 'red' , Cluster2 in 'blue' , Cluster3 in 'green', and Cluster4 in 'cyan', seem to be more clearly differentiated than before. With increase in credit limit there is not much significant increase in number of purchases for most of the cases. Let's check the results using other values of K (Number of Clusters) now to verify whether we can enhance predictions"
   ]
  },
  {
   "cell_type": "code",
   "execution_count": 16,
   "id": "0fc37e37",
   "metadata": {},
   "outputs": [],
   "source": [
    "X = CC_df.iloc[:, [3, 13]].values\n",
    "m=X.shape[0] #number of training examples\n",
    "n=X.shape[1] #number of features. Here n=2\n",
    "n_iter=100\n",
    "\n",
    "K=5 #Number of clusters\n",
    "# Randomly pick k data points as our initial Centroids\n",
    "Centroids=np.array([]).reshape(n,0) \n",
    "\n",
    "for i in range(K):\n",
    "    rand=random.randint(0,m-1)\n",
    "    Centroids=np.c_[Centroids,X[rand]]\n",
    "\n",
    "#Find the distance (Euclidean distance) between each data points in our training set with the K centroids.\n",
    "for i in range(n_iter):    \n",
    "    EuclidianDistance=np.array([]).reshape(m,0)\n",
    "    for k in range(K):\n",
    "        tempDist=np.sum((X-Centroids[:,k])**2,axis=1)\n",
    "        EuclidianDistance=np.c_[EuclidianDistance,tempDist]\n",
    "        \n",
    "    #Now assign each data point to the closest centroid according to the distance found.\n",
    "    C=np.argmin(EuclidianDistance,axis=1)+1\n",
    "     \n",
    "    Y={}\n",
    "    for k in range(K):\n",
    "          Y[k+1]=np.array([]).reshape(2,0)\n",
    "    for i in range(m):\n",
    "          Y[C[i]]=np.c_[Y[C[i]],X[i]]\n",
    "     \n",
    "    for k in range(K):\n",
    "          Y[k+1]=Y[k+1].T\n",
    "    #Update centroid location by taking the average of the points in each cluster group.\n",
    "    for k in range(K):\n",
    "          Centroids[:,k]=np.mean(Y[k+1],axis=0)\n",
    "    Output=Y"
   ]
  },
  {
   "cell_type": "code",
   "execution_count": 17,
   "id": "825e28a8",
   "metadata": {},
   "outputs": [
    {
     "data": {
      "image/png": "[encoded data removed]",
      "text/plain": [
       "<Figure size 432x288 with 1 Axes>"
      ]
     },
     "metadata": {
      "needs_background": "light"
     },
     "output_type": "display_data"
    }
   ],
   "source": [
    "color=['red','blue','green','cyan','magenta']\n",
    "labels=['cluster1','cluster2','cluster3','cluster4','cluster5']\n",
    "for k in range(K):\n",
    "    plt.scatter(Output[k+1][:,0],Output[k+1][:,1],c=color[k],label=labels[k])\n",
    "plt.scatter(Centroids[0,:],Centroids[1,:],s=100,c='yellow',label='Centroids')\n",
    "plt.xlabel('PURCHASES')\n",
    "plt.ylabel('CREDIT LIMIT')\n",
    "plt.legend()\n",
    "plt.show()"
   ]
  },
  {
   "cell_type": "markdown",
   "id": "ce6f371a",
   "metadata": {},
   "source": [
    "Cluster 1: High user of credit card, likely has high income as balance isn’t that high but spends quite a lot.\n"
   ]
  },
  {
   "cell_type": "markdown",
   "id": "aabd3e73",
   "metadata": {},
   "source": [
    "Cluster 2: Mid user of credit card, but only buys low value goods.\n"
   ]
  },
  {
   "cell_type": "markdown",
   "id": "e52235a0",
   "metadata": {},
   "source": [
    "Cluster 3: Mid user of credit card, tendency to buy large value goods but not great at paying it back as still high balance.\n"
   ]
  },
  {
   "cell_type": "markdown",
   "id": "a3d9bafe",
   "metadata": {},
   "source": [
    "Cluster 4: Mid user of credit card, tends to buy low value goods but not great at paying back."
   ]
  },
  {
   "cell_type": "markdown",
   "id": "f18f9065",
   "metadata": {},
   "source": [
    "\n",
    "Cluster 5: High user of credit card, however doesn’t purchase goods that are high in value. Keeps balance low."
   ]
  },
  {
   "cell_type": "markdown",
   "id": "f69a7cb0",
   "metadata": {},
   "source": [
    "#### Key findings:\n",
    "– The more purchases a customer makes, the more likely they will have had a larger one off purchase.\n"
   ]
  },
  {
   "cell_type": "markdown",
   "id": "fc14700c",
   "metadata": {},
   "source": [
    "-- Customers who make more purchases also make more payments. "
   ]
  },
  {
   "cell_type": "markdown",
   "id": "6b246125",
   "metadata": {},
   "source": [
    "-- Customers with higher credit balances are more likely to have a higher credit limit and also have more cash advances."
   ]
  },
  {
   "cell_type": "markdown",
   "id": "0cfe76fb",
   "metadata": {},
   "source": [
    "Q 4. Use the code written by you to cluster the data using all the features in the dataset. Take k=5 for this."
   ]
  },
  {
   "cell_type": "code",
   "execution_count": 27,
   "id": "cac25a4b",
   "metadata": {},
   "outputs": [],
   "source": [
    "X = scaled #CC_df.values\n",
    "m=X.shape[0] #number of training examples\n",
    "n=X.shape[1] #number of features. Here n=2\n",
    "n_iter=100\n",
    "\n",
    "K=5 #Number of clusters\n",
    "Centroids=np.array([]).reshape(n,0) \n",
    "\n",
    "for i in range(K):\n",
    "    rand=random.randint(0,m-1)\n",
    "    Centroids=np.c_[Centroids,X[rand]]\n",
    "\n",
    "#Find the distance (Euclidean distance) between each data points in our training set with the K centroids.\n",
    "for i in range(n_iter):    \n",
    "    EuclidianDistance=np.array([]).reshape(m,0)\n",
    "    for k in range(K):\n",
    "        tempDist=np.sum((X-Centroids[:,k])**2,axis=1)\n",
    "        EuclidianDistance=np.c_[EuclidianDistance,tempDist]\n",
    "        \n",
    "    C=np.argmin(EuclidianDistance,axis=1)+1\n",
    "     #step 2.b\n",
    "    Y={}\n",
    "    for k in range(K):\n",
    "          Y[k+1]=np.array([]).reshape(17,0)\n",
    "    for i in range(m):\n",
    "          Y[C[i]]=np.c_[Y[C[i]],X[i]]\n",
    "     \n",
    "    for k in range(K):\n",
    "          Y[k+1]=Y[k+1].T\n",
    "    \n",
    "    for k in range(K):\n",
    "          Centroids[:,k]=np.mean(Y[k+1],axis=0)\n",
    "    Output=Y"
   ]
  },
  {
   "cell_type": "code",
   "execution_count": 26,
   "id": "af5ccf5f",
   "metadata": {},
   "outputs": [
    {
     "data": {
      "image/png": "[encoded data removed]",
      "text/plain": [
       "<Figure size 432x288 with 1 Axes>"
      ]
     },
     "metadata": {
      "needs_background": "light"
     },
     "output_type": "display_data"
    }
   ],
   "source": [
    "color=['red','blue','green','cyan','magenta']\n",
    "labels=['cluster1','cluster2','cluster3','cluster4','cluster5']\n",
    "for k in range(K):\n",
    "    plt.scatter(Output[k+1][:,0],Output[k+1][:,1],c=color[k],label=labels[k])\n",
    "plt.scatter(Centroids[0,:],Centroids[1,:],s=100,c='yellow',label='Centroids')\n",
    "#plt.xlabel('PURCHASES')\n",
    "#plt.ylabel('CREDIT LIMIT')\n",
    "plt.legend()\n",
    "plt.show()"
   ]
  },
  {
   "cell_type": "markdown",
   "id": "88e25f46",
   "metadata": {},
   "source": [
    "###### Conclusion : are able to build a clustering model that was able to segment our credit card users into distinctive groups. Some of these were fairly classical such as the prime segment, revolvers and transactors but we were also able to identify inactive users. Understanding the behaviour of customers at this level of granularity is key to tailoring offers which improve customer retention and drive revenues. "
   ]
  },
  {
   "cell_type": "markdown",
   "id": "fec0831b",
   "metadata": {},
   "source": [
    "#### Key findings:\n",
    "– The more purchases a customer makes, the more likely they will have had a larger one off purchase.\n",
    "\n",
    "\n",
    "-- Customers who make more purchases also make more payments. \n",
    "\n",
    "-- Customers with higher credit balances are more likely to have a higher credit limit and also have more cash advances."
   ]
  },
  {
   "cell_type": "code",
   "execution_count": null,
   "id": "dd2955f2",
   "metadata": {},
   "outputs": [],
   "source": []
  }
 ],
 "metadata": {
  "kernelspec": {
   "display_name": "Python 3 (ipykernel)",
   "language": "python",
   "name": "python3"
  },
  "language_info": {
   "codemirror_mode": {
    "name": "ipython",
    "version": 3
   },
   "file_extension": ".py",
   "mimetype": "text/x-python",
   "name": "python",
   "nbconvert_exporter": "python",
   "pygments_lexer": "ipython3",
   "version": "3.9.7"
  }
 },
 "nbformat": 4,
 "nbformat_minor": 5
}
